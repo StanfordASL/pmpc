{
 "cells": [
  {
   "cell_type": "code",
   "execution_count": 1,
   "metadata": {},
   "outputs": [],
   "source": [
    "%load_ext autoreload\n",
    "%autoreload 2\n",
    "%matplotlib widget"
   ]
  },
  {
   "cell_type": "code",
   "execution_count": 44,
   "metadata": {},
   "outputs": [],
   "source": [
    "import time\n",
    "import numpy as np\n",
    "from functools import partial\n",
    "from jfi import init\n",
    "import matplotlib.pyplot as plt\n",
    "jaxm = init(device=\"cpu\")\n",
    "\n",
    "import jaxopt\n",
    "\n",
    "import pmpc\n",
    "from pmpc import solve\n",
    "from dubins_car_jax import f as f_fn, fx as fx_fn, fu as fu_fn, rollout, rollout2, rollout_fx\n",
    "from dubins_car import f_np, fx_np, fu_np\n",
    "from pmpc.remote import call\n",
    "from pmpc.utils import TablePrinter\n"
   ]
  },
  {
   "cell_type": "code",
   "execution_count": 3,
   "metadata": {},
   "outputs": [],
   "source": [
    "p = jaxm.array([1.0, 1.0, 0.3])\n",
    "def f_fx_fu_fn(x, u):\n",
    "    return f_fn(x, u, p), fx_fn(x, u, p), fu_fn(x, u, p)\n",
    "\n",
    "M, N, xdim, udim = 1, 30, 4, 2\n",
    "Q = jaxm.tile(jaxm.eye(xdim), (N, 1, 1))\n",
    "R = jaxm.tile(1e-3 * jaxm.eye(udim), (N, 1, 1))\n",
    "x0 = jaxm.tile(jaxm.ones(xdim), (1,))\n",
    "X_ref, U_ref = jaxm.zeros((N, xdim)), jaxm.zeros((N, udim))\n",
    "X_prev, U_prev = jaxm.ones((N, xdim)), jaxm.ones((N, udim))\n",
    "u_l, u_u = -1 * jaxm.ones((N, udim)), 1 * jaxm.ones((N, udim))"
   ]
  },
  {
   "cell_type": "code",
   "execution_count": 4,
   "metadata": {},
   "outputs": [],
   "source": [
    "f_fn(X_prev, U_prev, p)\n",
    "fx = fx_fn(X_prev, U_prev, p)\n",
    "fu = fu_fn(X_prev, U_prev, p)"
   ]
  },
  {
   "cell_type": "code",
   "execution_count": 5,
   "metadata": {},
   "outputs": [],
   "source": [
    "fx2 = fx_np(np.array(X_prev), np.array(U_prev), np.array(p))\n",
    "fu2 = fu_np(np.array(X_prev), np.array(U_prev), np.array(p))"
   ]
  },
  {
   "cell_type": "code",
   "execution_count": null,
   "metadata": {},
   "outputs": [],
   "source": [
    "## Convex Cost\n",
    "\n",
    "opts = dict(verbose=True, u_l=u_l, u_u=u_u)\n",
    "args = (f_fx_fu_fn, Q, R, x0, X_ref, U_ref, X_prev, U_prev)\n",
    "\n",
    "solver = \"ecos\"\n",
    "opts[\"solver_settings\"] = dict(solver=solver)\n",
    "X, U, data = solve(*args, max_it=100, reg_x=1e1, reg_u=1e0, **opts)"
   ]
  },
  {
   "cell_type": "code",
   "execution_count": 10,
   "metadata": {},
   "outputs": [],
   "source": [
    "f, fx, fu = f_fx_fu_fn(X_prev, U_prev)\n",
    "py2jl = pmpc.julia_utils.py2jl\n",
    "py2jl(x0, )\n",
    "dims = dict(x0=1, f=1, fx=2, fu=2, X_prev=1, U_prev=1, Q=2, R=2, X_ref=1, U_ref=1)\n",
    "args = [py2jl(np.array(z[None, ...]), dim) for (z, dim) in zip([x0, f, fx, fu, X_prev, U_prev, Q, R, X_ref, U_ref], dims.values())]\n",
    "pmpc.scp_mpc.jl.lqp_generate_problem_matrices(*args);"
   ]
  },
  {
   "cell_type": "code",
   "execution_count": 11,
   "metadata": {},
   "outputs": [],
   "source": [
    "f, fx, fu = f_fx_fu_fn(X_prev, U_prev)\n",
    "args = x0, f, fx, fu, X_prev, U_prev, Q, R, X_ref, U_ref\n",
    "ret = call(\"lqp_generate_problem_matrices\", None, None, True, *args)"
   ]
  },
  {
   "cell_type": "code",
   "execution_count": 12,
   "metadata": {},
   "outputs": [
    {
     "data": {
      "text/plain": [
       "Array([0.00000000e+00, 1.56730474e-11, 5.47640803e-02, 2.18695696e-01,\n",
       "       4.33414479e-01, 5.90823485e-01, 6.86206401e-01, 7.36634264e-01,\n",
       "       7.55816534e-01, 7.94692278e-01, 8.98342893e-01, 1.07601141e+00,\n",
       "       1.31046798e+00, 1.57715146e+00, 1.85864971e+00, 2.14623851e+00,\n",
       "       2.43606716e+00, 2.72649554e+00, 3.01690199e+00, 3.30712797e+00,\n",
       "       3.59719139e+00, 3.88715093e+00, 4.17705624e+00, 4.46693844e+00,\n",
       "       4.75681413e+00, 5.04669088e+00, 5.33657174e+00, 5.62646182e+00,\n",
       "       5.91636190e+00, 6.20613566e+00, 6.49601480e+00], dtype=float64)"
      ]
     },
     "execution_count": 12,
     "metadata": {},
     "output_type": "execute_result"
    }
   ],
   "source": [
    "jaxm.norm(rollout_fx(x0, U, f, fx, fu, X_prev, U_prev) - rollout(x0, U, p), axis=-1)"
   ]
  },
  {
   "cell_type": "code",
   "execution_count": 13,
   "metadata": {},
   "outputs": [],
   "source": [
    "Ft_fn = jaxm.jit(lambda U: jaxm.jacobian(lambda U: rollout(x0, U, p)[1:, :])(U).reshape((N * xdim, N * udim)))\n",
    "ft_fn = jaxm.jit(lambda U: rollout(x0, U, p)[1:, :].reshape((N * xdim,)))"
   ]
  },
  {
   "cell_type": "code",
   "execution_count": 14,
   "metadata": {},
   "outputs": [],
   "source": [
    "P, q, A, b, G, l, u = [jaxm.array(z) for z in ret]"
   ]
  },
  {
   "cell_type": "code",
   "execution_count": 15,
   "metadata": {},
   "outputs": [],
   "source": [
    "@jaxm.jit\n",
    "def obj_fn(u, Ft, ft, P, q):\n",
    "    x = Ft @ u + ft\n",
    "    z = jaxm.cat([u, x])\n",
    "    return 0.5 * jaxm.sum((P @ z) * z) + jaxm.sum(q * z)\n",
    "\n",
    "\n",
    "Ft, ft = Ft_fn(U_prev), ft_fn(U_prev)\n",
    "solver = jaxopt.BFGS(\n",
    "    lambda U: obj_fn(U.reshape(-1), Ft, ft, P, q), maxiter=100, verbose=True, jit=True, tol=1e-9\n",
    ")\n",
    "#run = solver.run\n",
    "run = jaxm.jit(solver.run)"
   ]
  },
  {
   "cell_type": "code",
   "execution_count": 16,
   "metadata": {},
   "outputs": [],
   "source": [
    "make_matrices_shape = (\n",
    "    jaxm.jax.ShapeDtypeStruct((180, 180,), jaxm.float64),\n",
    "    jaxm.jax.ShapeDtypeStruct((180,), jaxm.float64),\n",
    "    #jaxm.jax.ShapeDtypeStruct((120, 180,), jaxm.float64),\n",
    "    #jaxm.jax.ShapeDtypeStruct((120,), jaxm.float64)\n",
    ")\n",
    "\n",
    "def make_matrices(x0, f, fx, fu, X_prev, U_prev, Q, R, X_ref, U_ref):\n",
    "    args = x0, f, fx, fu, X_prev, U_prev, Q, R, X_ref, U_ref\n",
    "    args = [np.array(x) for x in args]\n",
    "    ret = call(\"lqp_generate_problem_matrices\", None, None, True, *args)\n",
    "    P, q, A, b = [jaxm.array(z) for z in ret[:4]]\n",
    "    return P, q#, A, b"
   ]
  },
  {
   "cell_type": "code",
   "execution_count": 109,
   "metadata": {},
   "outputs": [],
   "source": [
    "bmv = lambda A, x: (A @ x[..., None])[..., 0]\n",
    "\n",
    "\n",
    "@jaxm.jit\n",
    "def Ft_ft_fn(x0, U, f, fx, fu, X_prev, U_prev):\n",
    "    N, xdim, udim = U.shape[-2], X_prev.shape[-1], U.shape[-1]\n",
    "\n",
    "    ft_ = rollout_fx(x0, U, f, fx, fu, X_prev, U_prev)[..., 1:, :]\n",
    "    Ft_ = jaxm.jacobian(lambda U: rollout_fx(x0, U, f, fx, fu, X_prev, U_prev)[..., 1:, :])(U)\n",
    "    Ft, ft = Ft_, ft_\n",
    "\n",
    "    #ft = rollout(x0, U, p)[..., 1:, :]\n",
    "    #Ft = jaxm.jacobian(lambda U: rollout(x0, U, p)[..., 1:, :])(U)\n",
    "\n",
    "    Ft, ft = Ft.reshape((N * xdim, N * udim)), ft.reshape((N * xdim,))\n",
    "    return Ft, ft\n",
    "\n",
    "\n",
    "@jaxm.jit\n",
    "def obj_fn(U, Ft, ft, X_prev, U_prev, reg_x, reg_u, Q, R, X_ref, U_ref):\n",
    "    X = (Ft @ (U - U_prev).reshape(U.shape[:-2] + (-1,)) + ft).reshape(U.shape[:-1] + (-1,))\n",
    "    dX, dU = X - X_ref, U - U_ref\n",
    "    J = 0.5 * jaxm.mean(jaxm.sum(dX * bmv(Q, dX), axis=-1))\n",
    "    J = J + 0.5 * jaxm.mean(jaxm.sum(dU * bmv(R, dU), axis=-1))\n",
    "    J = J + 0.5 * reg_x * jaxm.mean(jaxm.sum((X - X_prev) ** 2, -1))\n",
    "    J = J + 0.5 * reg_u * jaxm.mean(jaxm.sum((U - U_prev) ** 2, -1))\n",
    "    alpha = 1e1\n",
    "    J = J + jaxm.mean(-jaxm.log(-alpha * (U - 1.0)) / alpha)\n",
    "    J = J + jaxm.mean(-jaxm.log(-alpha * (-U - 1.0)) / alpha)\n",
    "    return jaxm.where(jaxm.isfinite(J), J, 1e10)\n",
    "    #return J\n",
    "\n",
    "\n",
    "solver = jaxopt.BFGS(obj_fn, maxiter=300, verbose=False, tol=1e-3, jit=True)\n",
    "run = jaxm.jit(solver.run)\n",
    "update = jaxm.jit(solver.update)\n",
    "\n",
    "\n",
    "@partial(jaxm.jit)\n",
    "def run_with_state(z, *args, max_it: int = 10, state=None, **kw):\n",
    "    if state is None:\n",
    "        state = solver.init_state(z, *args, **kw)\n",
    "    body_fn = lambda i, z_state: update(*z_state, *args, **kw)\n",
    "    z_state = body_fn(0, (z, state))\n",
    "    return jaxm.jax.lax.fori_loop(1, max_it, body_fn, z_state)"
   ]
  },
  {
   "cell_type": "code",
   "execution_count": 110,
   "metadata": {},
   "outputs": [],
   "source": [
    "def opt_fn(f_fx_fu_fn, x0, X_prev, U_prev, Q, R, X_ref, U_ref, **kw):\n",
    "    state = None\n",
    "    t = time.time()\n",
    "    tp = TablePrinter(\n",
    "        [\"it\", \"elaps\", \"obj\", \"resid\", \"reg_x\", \"reg_u\", \"sol_err\"],\n",
    "        [\"%04d\"] + 3 * [\"%.3e\"] + 3 * [\"%.1e\"],\n",
    "    )\n",
    "    tp.print_header()\n",
    "    for it in range(kw.get(\"max_it\", int(1e3))):\n",
    "        f, fx, fu = f_fx_fu_fn(jaxm.cat([x0[..., None, :], X_prev[..., :-1, :]], -2), U_prev)\n",
    "        Ft, ft = Ft_ft_fn(x0, U_prev, f, fx, fu, X_prev, U_prev)\n",
    "        reg_x, reg_u = kw.get(\"reg_x\", 1e0), kw.get(\"reg_u\", 1e0)\n",
    "        args = Ft, ft, X_prev, U_prev, reg_x, reg_u, Q, R, X_ref, U_ref\n",
    "        U_prev_, state = run_with_state(U_prev, *args, state=state, max_it=50)\n",
    "        # U_prev_, state = run(U_prev, *args)\n",
    "        X_prev_ = bmv(Ft, (U_prev_ - U_prev).reshape((U_prev.shape[:-2] + (-1,)))) + ft\n",
    "        X_prev_ = X_prev_.reshape(X_prev.shape)\n",
    "        residx = jaxm.max(jaxm.norm(X_prev_ - X_prev, axis=-1))\n",
    "        residu = jaxm.max(jaxm.norm(U_prev_ - U_prev, axis=-1))\n",
    "        resid = jaxm.maximum(residx, residu)\n",
    "        X_prev, U_prev = X_prev_, U_prev_\n",
    "        obj = obj_fn(U_prev, *args)\n",
    "        tp.print_values([it, time.time() - t, obj, resid, reg_x, reg_u, state.error])\n",
    "    tp.print_footer()\n",
    "    return X_prev, U_prev\n"
   ]
  },
  {
   "cell_type": "code",
   "execution_count": 111,
   "metadata": {},
   "outputs": [
    {
     "name": "stdout",
     "output_type": "stream",
     "text": [
      "################################################################################\n",
      "+------+------------+------------+------------+----------+----------+----------+\n",
      "|  it  |   elaps    |    obj     |   resid    |  reg_x   |  reg_u   | sol_err  |\n",
      "+------+------------+------------+------------+----------+----------+----------+\n",
      "| 0000 |  2.244e+00 |  1.571e+00 |  1.549e+00 |  1.0e+00 |  1.0e+00 |  1.2e-06 |\n",
      "| 0001 |  3.751e+00 |  4.332e-01 |  7.833e-01 |  1.0e+00 |  1.0e+00 |  2.7e-06 |\n",
      "| 0002 |  3.755e+00 |  2.346e-01 |  3.995e-01 |  1.0e+00 |  1.0e+00 |  4.0e-11 |\n",
      "| 0003 |  3.759e+00 |  1.766e-01 |  2.310e-01 |  1.0e+00 |  1.0e+00 |  4.2e-09 |\n",
      "| 0004 |  3.763e+00 |  1.600e-01 |  1.395e-01 |  1.0e+00 |  1.0e+00 |  2.7e-14 |\n",
      "| 0005 |  3.768e+00 |  1.543e-01 |  9.047e-02 |  1.0e+00 |  1.0e+00 |  1.0e-12 |\n",
      "| 0006 |  3.772e+00 |  1.520e-01 |  6.835e-02 |  1.0e+00 |  1.0e+00 |  8.6e-13 |\n",
      "| 0007 |  3.776e+00 |  1.510e-01 |  5.791e-02 |  1.0e+00 |  1.0e+00 |  1.3e-08 |\n",
      "| 0008 |  3.780e+00 |  1.504e-01 |  4.698e-02 |  1.0e+00 |  1.0e+00 |  9.7e-16 |\n",
      "| 0009 |  3.785e+00 |  1.501e-01 |  3.723e-02 |  1.0e+00 |  1.0e+00 |  5.6e-16 |\n",
      "| 0010 |  3.790e+00 |  1.500e-01 |  2.905e-02 |  1.0e+00 |  1.0e+00 |  1.1e-15 |\n",
      "| 0011 |  3.794e+00 |  1.499e-01 |  2.239e-02 |  1.0e+00 |  1.0e+00 |  2.0e-15 |\n",
      "| 0012 |  3.798e+00 |  1.498e-01 |  1.710e-02 |  1.0e+00 |  1.0e+00 |  2.1e-15 |\n",
      "| 0013 |  3.803e+00 |  1.497e-01 |  1.296e-02 |  1.0e+00 |  1.0e+00 |  8.8e-16 |\n",
      "| 0014 |  3.807e+00 |  1.497e-01 |  1.027e-02 |  1.0e+00 |  1.0e+00 |  1.3e-15 |\n",
      "| 0015 |  3.812e+00 |  1.497e-01 |  8.522e-03 |  1.0e+00 |  1.0e+00 |  1.2e-15 |\n",
      "| 0016 |  3.816e+00 |  1.497e-01 |  7.072e-03 |  1.0e+00 |  1.0e+00 |  6.1e-16 |\n",
      "| 0017 |  3.821e+00 |  1.497e-01 |  5.872e-03 |  1.0e+00 |  1.0e+00 |  8.4e-16 |\n",
      "| 0018 |  3.825e+00 |  1.497e-01 |  4.882e-03 |  1.0e+00 |  1.0e+00 |  1.8e-15 |\n",
      "| 0019 |  3.829e+00 |  1.497e-01 |  4.063e-03 |  1.0e+00 |  1.0e+00 |  8.5e-16 |\n",
      "| 0020 |  3.834e+00 |  1.497e-01 |  3.387e-03 |  1.0e+00 |  1.0e+00 |  8.3e-16 |\n",
      "| 0021 |  3.839e+00 |  1.497e-01 |  2.827e-03 |  1.0e+00 |  1.0e+00 |  9.1e-16 |\n",
      "| 0022 |  3.843e+00 |  1.497e-01 |  2.363e-03 |  1.0e+00 |  1.0e+00 |  1.3e-15 |\n",
      "| 0023 |  3.848e+00 |  1.497e-01 |  1.978e-03 |  1.0e+00 |  1.0e+00 |  1.5e-15 |\n",
      "| 0024 |  3.852e+00 |  1.497e-01 |  1.658e-03 |  1.0e+00 |  1.0e+00 |  1.3e-15 |\n",
      "| 0025 |  3.857e+00 |  1.497e-01 |  1.391e-03 |  1.0e+00 |  1.0e+00 |  1.1e-15 |\n",
      "| 0026 |  3.862e+00 |  1.497e-01 |  1.169e-03 |  1.0e+00 |  1.0e+00 |  1.4e-15 |\n",
      "| 0027 |  3.866e+00 |  1.497e-01 |  9.829e-04 |  1.0e+00 |  1.0e+00 |  1.4e-15 |\n",
      "| 0028 |  3.871e+00 |  1.497e-01 |  8.276e-04 |  1.0e+00 |  1.0e+00 |  3.1e-15 |\n",
      "| 0029 |  3.876e+00 |  1.497e-01 |  6.976e-04 |  1.0e+00 |  1.0e+00 |  1.1e-15 |\n",
      "| 0030 |  3.881e+00 |  1.497e-01 |  5.886e-04 |  1.0e+00 |  1.0e+00 |  1.9e-15 |\n",
      "| 0031 |  3.885e+00 |  1.497e-01 |  4.971e-04 |  1.0e+00 |  1.0e+00 |  1.6e-15 |\n",
      "| 0032 |  3.890e+00 |  1.497e-01 |  4.202e-04 |  1.0e+00 |  1.0e+00 |  3.8e-16 |\n",
      "| 0033 |  3.894e+00 |  1.497e-01 |  3.556e-04 |  1.0e+00 |  1.0e+00 |  9.1e-16 |\n",
      "| 0034 |  3.898e+00 |  1.497e-01 |  3.011e-04 |  1.0e+00 |  1.0e+00 |  2.7e-14 |\n",
      "| 0035 |  3.903e+00 |  1.497e-01 |  2.553e-04 |  1.0e+00 |  1.0e+00 |  2.2e-15 |\n",
      "| 0036 |  3.907e+00 |  1.497e-01 |  2.216e-04 |  1.0e+00 |  1.0e+00 |  1.4e-15 |\n",
      "| 0037 |  3.911e+00 |  1.497e-01 |  1.947e-04 |  1.0e+00 |  1.0e+00 |  1.9e-15 |\n",
      "| 0038 |  3.916e+00 |  1.497e-01 |  1.711e-04 |  1.0e+00 |  1.0e+00 |  1.1e-15 |\n",
      "| 0039 |  3.921e+00 |  1.497e-01 |  1.504e-04 |  1.0e+00 |  1.0e+00 |  2.3e-15 |\n",
      "| 0040 |  3.926e+00 |  1.497e-01 |  1.323e-04 |  1.0e+00 |  1.0e+00 |  1.3e-15 |\n",
      "| 0041 |  3.930e+00 |  1.497e-01 |  1.164e-04 |  1.0e+00 |  1.0e+00 |  7.7e-16 |\n",
      "| 0042 |  3.936e+00 |  1.497e-01 |  1.025e-04 |  1.0e+00 |  1.0e+00 |  1.6e-15 |\n",
      "| 0043 |  3.941e+00 |  1.497e-01 |  9.027e-05 |  1.0e+00 |  1.0e+00 |  2.3e-15 |\n",
      "| 0044 |  3.946e+00 |  1.497e-01 |  7.953e-05 |  1.0e+00 |  1.0e+00 |  2.0e-15 |\n",
      "| 0045 |  3.950e+00 |  1.497e-01 |  7.009e-05 |  1.0e+00 |  1.0e+00 |  1.8e-15 |\n",
      "| 0046 |  3.956e+00 |  1.497e-01 |  6.180e-05 |  1.0e+00 |  1.0e+00 |  1.1e-15 |\n",
      "| 0047 |  3.961e+00 |  1.497e-01 |  5.451e-05 |  1.0e+00 |  1.0e+00 |  9.0e-16 |\n",
      "| 0048 |  3.966e+00 |  1.497e-01 |  4.809e-05 |  1.0e+00 |  1.0e+00 |  1.5e-15 |\n",
      "| 0049 |  3.970e+00 |  1.497e-01 |  4.244e-05 |  1.0e+00 |  1.0e+00 |  2.4e-15 |\n",
      "| 0050 |  3.975e+00 |  1.497e-01 |  3.747e-05 |  1.0e+00 |  1.0e+00 |  1.3e-15 |\n",
      "| 0051 |  3.979e+00 |  1.497e-01 |  3.309e-05 |  1.0e+00 |  1.0e+00 |  1.4e-15 |\n",
      "| 0052 |  3.984e+00 |  1.497e-01 |  2.923e-05 |  1.0e+00 |  1.0e+00 |  1.3e-15 |\n",
      "| 0053 |  3.989e+00 |  1.497e-01 |  2.583e-05 |  1.0e+00 |  1.0e+00 |  1.1e-15 |\n",
      "| 0054 |  3.994e+00 |  1.497e-01 |  2.283e-05 |  1.0e+00 |  1.0e+00 |  9.6e-16 |\n",
      "| 0055 |  3.998e+00 |  1.497e-01 |  2.018e-05 |  1.0e+00 |  1.0e+00 |  1.1e-15 |\n",
      "| 0056 |  4.002e+00 |  1.497e-01 |  1.785e-05 |  1.0e+00 |  1.0e+00 |  7.0e-16 |\n",
      "| 0057 |  4.007e+00 |  1.497e-01 |  1.579e-05 |  1.0e+00 |  1.0e+00 |  7.7e-16 |\n",
      "| 0058 |  4.012e+00 |  1.497e-01 |  1.397e-05 |  1.0e+00 |  1.0e+00 |  1.4e-15 |\n",
      "| 0059 |  4.017e+00 |  1.497e-01 |  1.237e-05 |  1.0e+00 |  1.0e+00 |  4.6e-16 |\n",
      "| 0060 |  4.021e+00 |  1.497e-01 |  1.095e-05 |  1.0e+00 |  1.0e+00 |  2.3e-15 |\n",
      "| 0061 |  4.026e+00 |  1.497e-01 |  9.693e-06 |  1.0e+00 |  1.0e+00 |  1.3e-15 |\n",
      "| 0062 |  4.031e+00 |  1.497e-01 |  8.584e-06 |  1.0e+00 |  1.0e+00 |  1.2e-15 |\n",
      "| 0063 |  4.035e+00 |  1.497e-01 |  7.604e-06 |  1.0e+00 |  1.0e+00 |  7.1e-16 |\n",
      "| 0064 |  4.040e+00 |  1.497e-01 |  6.737e-06 |  1.0e+00 |  1.0e+00 |  1.9e-15 |\n",
      "| 0065 |  4.044e+00 |  1.497e-01 |  5.971e-06 |  1.0e+00 |  1.0e+00 |  9.0e-16 |\n",
      "| 0066 |  4.049e+00 |  1.497e-01 |  5.292e-06 |  1.0e+00 |  1.0e+00 |  1.2e-15 |\n",
      "| 0067 |  4.053e+00 |  1.497e-01 |  4.692e-06 |  1.0e+00 |  1.0e+00 |  3.8e-15 |\n",
      "| 0068 |  4.058e+00 |  1.497e-01 |  4.160e-06 |  1.0e+00 |  1.0e+00 |  2.0e-15 |\n",
      "| 0069 |  4.063e+00 |  1.497e-01 |  3.690e-06 |  1.0e+00 |  1.0e+00 |  2.4e-15 |\n",
      "| 0070 |  4.067e+00 |  1.497e-01 |  3.273e-06 |  1.0e+00 |  1.0e+00 |  1.0e-15 |\n",
      "| 0071 |  4.073e+00 |  1.497e-01 |  2.904e-06 |  1.0e+00 |  1.0e+00 |  1.2e-15 |\n",
      "| 0072 |  4.077e+00 |  1.497e-01 |  2.576e-06 |  1.0e+00 |  1.0e+00 |  2.2e-15 |\n",
      "| 0073 |  4.082e+00 |  1.497e-01 |  2.287e-06 |  1.0e+00 |  1.0e+00 |  8.0e-16 |\n",
      "| 0074 |  4.087e+00 |  1.497e-01 |  2.030e-06 |  1.0e+00 |  1.0e+00 |  2.4e-15 |\n",
      "| 0075 |  4.092e+00 |  1.497e-01 |  1.802e-06 |  1.0e+00 |  1.0e+00 |  5.0e-16 |\n",
      "| 0076 |  4.097e+00 |  1.497e-01 |  1.600e-06 |  1.0e+00 |  1.0e+00 |  2.1e-15 |\n",
      "| 0077 |  4.102e+00 |  1.497e-01 |  1.421e-06 |  1.0e+00 |  1.0e+00 |  1.9e-15 |\n",
      "| 0078 |  4.107e+00 |  1.497e-01 |  1.262e-06 |  1.0e+00 |  1.0e+00 |  2.7e-15 |\n",
      "| 0079 |  4.112e+00 |  1.497e-01 |  1.121e-06 |  1.0e+00 |  1.0e+00 |  7.5e-16 |\n",
      "| 0080 |  4.117e+00 |  1.497e-01 |  9.955e-07 |  1.0e+00 |  1.0e+00 |  2.8e-15 |\n",
      "| 0081 |  4.121e+00 |  1.497e-01 |  8.845e-07 |  1.0e+00 |  1.0e+00 |  1.5e-15 |\n",
      "| 0082 |  4.126e+00 |  1.497e-01 |  7.860e-07 |  1.0e+00 |  1.0e+00 |  2.0e-15 |\n",
      "| 0083 |  4.131e+00 |  1.497e-01 |  6.985e-07 |  1.0e+00 |  1.0e+00 |  1.2e-15 |\n",
      "| 0084 |  4.136e+00 |  1.497e-01 |  6.208e-07 |  1.0e+00 |  1.0e+00 |  1.9e-15 |\n",
      "| 0085 |  4.140e+00 |  1.497e-01 |  5.519e-07 |  1.0e+00 |  1.0e+00 |  2.2e-15 |\n",
      "| 0086 |  4.145e+00 |  1.497e-01 |  4.906e-07 |  1.0e+00 |  1.0e+00 |  1.1e-15 |\n",
      "| 0087 |  4.150e+00 |  1.497e-01 |  4.362e-07 |  1.0e+00 |  1.0e+00 |  1.0e-15 |\n",
      "| 0088 |  4.154e+00 |  1.497e-01 |  3.879e-07 |  1.0e+00 |  1.0e+00 |  7.1e-16 |\n",
      "| 0089 |  4.160e+00 |  1.497e-01 |  3.450e-07 |  1.0e+00 |  1.0e+00 |  1.2e-15 |\n",
      "| 0090 |  4.165e+00 |  1.497e-01 |  3.068e-07 |  1.0e+00 |  1.0e+00 |  1.1e-15 |\n",
      "| 0091 |  4.169e+00 |  1.497e-01 |  2.729e-07 |  1.0e+00 |  1.0e+00 |  2.0e-15 |\n",
      "| 0092 |  4.174e+00 |  1.497e-01 |  2.428e-07 |  1.0e+00 |  1.0e+00 |  2.1e-15 |\n",
      "| 0093 |  4.180e+00 |  1.497e-01 |  2.160e-07 |  1.0e+00 |  1.0e+00 |  1.7e-15 |\n",
      "| 0094 |  4.184e+00 |  1.497e-01 |  1.922e-07 |  1.0e+00 |  1.0e+00 |  3.6e-15 |\n",
      "| 0095 |  4.189e+00 |  1.497e-01 |  1.710e-07 |  1.0e+00 |  1.0e+00 |  8.6e-16 |\n",
      "| 0096 |  4.194e+00 |  1.497e-01 |  1.522e-07 |  1.0e+00 |  1.0e+00 |  1.1e-15 |\n",
      "| 0097 |  4.199e+00 |  1.497e-01 |  1.354e-07 |  1.0e+00 |  1.0e+00 |  8.9e-16 |\n",
      "| 0098 |  4.204e+00 |  1.497e-01 |  1.205e-07 |  1.0e+00 |  1.0e+00 |  2.3e-15 |\n",
      "| 0099 |  4.209e+00 |  1.497e-01 |  1.073e-07 |  1.0e+00 |  1.0e+00 |  6.9e-16 |\n",
      "+------+------------+------------+------------+----------+----------+----------+\n"
     ]
    }
   ],
   "source": [
    "U_prev = 1e-1 * np.ones((N, udim))\n",
    "X, U = opt_fn(f_fx_fu_fn, x0, X_prev, U_prev, Q, R, X_ref, U_ref, max_it=100)"
   ]
  },
  {
   "cell_type": "code",
   "execution_count": null,
   "metadata": {},
   "outputs": [],
   "source": [
    "f, fx, fu = f_fx_fu_fn(X_prev, U_prev)\n",
    "Ft, ft = Ft_ft_fn(x0, U_prev, f, fx, fu, X_prev, U_prev)\n",
    "reg_x, reg_u = 3e0, 1e0\n",
    "args = Ft, ft, X_prev, U_prev, reg_x, reg_u, Q, R, X_ref, U_ref\n",
    "state = solver.init_state(U_prev, *args)\n",
    "ret = update(U_prev, state, *args)"
   ]
  },
  {
   "cell_type": "code",
   "execution_count": 108,
   "metadata": {},
   "outputs": [
    {
     "data": {
      "application/vnd.jupyter.widget-view+json": {
       "model_id": "71bf8c8ad56946c687bdc81e8f861169",
       "version_major": 2,
       "version_minor": 0
      },
      "image/png": "[encoded data removed]",
      "text/html": [
       "\n",
       "            <div style=\"display: inline-block;\">\n",
       "                <div class=\"jupyter-widgets widget-label\" style=\"text-align: center;\">\n",
       "                    Figure\n",
       "                </div>\n",
       "                <img src='data:image/png;base64,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' width=640.0/>\n",
       "            </div>\n",
       "        "
      ],
      "text/plain": [
       "Canvas(toolbar=Toolbar(toolitems=[('Home', 'Reset original view', 'home', 'home'), ('Back', 'Back to previous …"
      ]
     },
     "metadata": {},
     "output_type": "display_data"
    }
   ],
   "source": [
    "plt.figure()\n",
    "plt.plot(U[:, 0])\n",
    "plt.plot(U[:, 1])\n",
    "plt.show()"
   ]
  },
  {
   "cell_type": "code",
   "execution_count": 106,
   "metadata": {},
   "outputs": [],
   "source": [
    "fn = lambda x: jaxm.mean((x - jaxm.ones(x.shape)) ** 2)\n",
    "solver = jaxopt.LBFGS(fn, maxiter=10000, verbose=True, jit=True)\n",
    "run = jaxm.jit(solver.run)\n",
    "solve = jaxm.jit(jaxm.jax.vmap(lambda x: solver.run(x).params))"
   ]
  },
  {
   "cell_type": "code",
   "execution_count": null,
   "metadata": {},
   "outputs": [
    {
     "name": "stdout",
     "output_type": "stream",
     "text": [
      "CPU times: user 32.4 ms, sys: 47 µs, total: 32.5 ms\n",
      "Wall time: 32.4 ms\n"
     ]
    }
   ],
   "source": [
    "%time res = solve(jaxm.randn((1000, 10000,)))"
   ]
  },
  {
   "cell_type": "code",
   "execution_count": null,
   "metadata": {},
   "outputs": [],
   "source": []
  }
 ],
 "metadata": {
  "kernelspec": {
   "display_name": "devel",
   "language": "python",
   "name": "python3"
  },
  "language_info": {
   "codemirror_mode": {
    "name": "ipython",
    "version": 3
   },
   "file_extension": ".py",
   "mimetype": "text/x-python",
   "name": "python",
   "nbconvert_exporter": "python",
   "pygments_lexer": "ipython3",
   "version": "3.9.13"
  },
  "orig_nbformat": 4
 },
 "nbformat": 4,
 "nbformat_minor": 2
}
