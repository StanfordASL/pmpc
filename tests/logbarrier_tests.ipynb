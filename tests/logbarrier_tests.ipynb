{
 "cells": [
  {
   "cell_type": "code",
   "execution_count": 1,
   "id": "bc59df11",
   "metadata": {},
   "outputs": [
    {
     "name": "stdout",
     "output_type": "stream",
     "text": [
      "The autoreload extension is already loaded. To reload it, use:\n",
      "  %reload_ext autoreload\n"
     ]
    }
   ],
   "source": [
    "%matplotlib widget\n",
    "%load_ext autoreload\n",
    "%autoreload 2"
   ]
  },
  {
   "cell_type": "code",
   "execution_count": 2,
   "id": "efbe7614",
   "metadata": {},
   "outputs": [],
   "source": [
    "import os\n",
    "import pdb\n",
    "import pickle\n",
    "import sys\n",
    "import time\n",
    "from pathlib import Path\n",
    "from collections import OrderedDict as odict\n",
    "\n",
    "import cvxpy as cp\n",
    "import matplotlib.pyplot as plt\n",
    "import numpy as np\n",
    "import scipy.sparse as sp\n",
    "import scipy.sparse.linalg\n",
    "\n",
    "paths = [\n",
    "    Path(\".\").absolute().parent,\n",
    "    Path(\".\").absolute(),\n",
    "    Path(\"~/Dropbox/stanford/sensitivity_analysis/goal_oriented_driving\").expanduser(),\n",
    "]\n",
    "for path in paths:\n",
    "    if str(path) not in sys.path:\n",
    "        sys.path.insert(0, str(path))\n",
    "\n",
    "from jfi import init\n",
    "jaxm = init(dtype=float, device=\"cpu\")\n",
    "\n",
    "import pmpc\n",
    "from goal_oriented_driving.dynamics import f_np as f_fn\n",
    "from goal_oriented_driving.dynamics import fu_np as fu_fn\n",
    "from goal_oriented_driving.dynamics import fx_np as fx_fn"
   ]
  },
  {
   "cell_type": "code",
   "execution_count": 3,
   "id": "70689eda",
   "metadata": {},
   "outputs": [],
   "source": [
    "def f_fx_fu_fn(X_prev, U_prev):\n",
    "    x, u, p = X_prev, U_prev, np.array([0.3, 1.0, 1.0])\n",
    "    return f_fn(x, u, p), fx_fn(x, u, p), fu_fn(x, u, p)\n",
    "\n",
    "def get_data(solver):\n",
    "    keys = [\"P\", \"q\", \"A\", \"b\", \"G\", \"l\", \"u\", \"z_sol\"]\n",
    "    ret = odict([(k, jaxm.array(getattr(solver, k))) for k in keys])\n",
    "    ret[\"z\"] = ret[\"z_sol\"]\n",
    "    del ret[\"z_sol\"]\n",
    "    return ret\n"
   ]
  },
  {
   "cell_type": "code",
   "execution_count": 9,
   "id": "f3f18724",
   "metadata": {},
   "outputs": [
    {
     "name": "stdout",
     "output_type": "stream",
     "text": [
      "+------+------------+------------+------------+------------+------------+\n",
      "|  it  |   elaps    |    obj     |   resid    |   reg_x    |   reg_u    |\n",
      "+------+------------+------------+------------+------------+------------+\n",
      "| 0001 |  2.206e-02 |  6.402e+01 |  9.618e+00 |  1.000e-01 |  1.000e-02 |\n",
      "| 0002 |  4.294e-02 |  7.277e+01 |  6.127e+00 |  1.000e-01 |  1.000e-02 |\n",
      "| 0003 |  6.383e-02 |  6.855e+01 |  1.166e+00 |  1.000e-01 |  1.000e-02 |\n",
      "| 0004 |  8.393e-02 |  6.602e+01 |  1.605e+00 |  1.000e-01 |  1.000e-02 |\n",
      "| 0005 |  1.046e-01 |  6.296e+01 |  1.225e+00 |  1.000e-01 |  1.000e-02 |\n",
      "| 0006 |  1.252e-01 |  6.283e+01 |  1.625e+00 |  1.000e-01 |  1.000e-02 |\n",
      "| 0007 |  1.457e-01 |  5.978e+01 |  1.131e+00 |  1.000e-01 |  1.000e-02 |\n",
      "| 0008 |  1.661e-01 |  6.052e+01 |  1.569e+00 |  1.000e-01 |  1.000e-02 |\n",
      "| 0009 |  1.872e-01 |  5.735e+01 |  1.011e+00 |  1.000e-01 |  1.000e-02 |\n",
      "| 0010 |  2.095e-01 |  5.911e+01 |  1.709e+00 |  1.000e-01 |  1.000e-02 |\n",
      "| 0011 |  2.310e-01 |  5.524e+01 |  9.807e-01 |  1.000e-01 |  1.000e-02 |\n",
      "| 0012 |  2.520e-01 |  5.859e+01 |  2.339e+00 |  1.000e-01 |  1.000e-02 |\n",
      "| 0013 |  2.744e-01 |  5.209e+01 |  1.919e+00 |  1.000e-01 |  1.000e-02 |\n",
      "| 0014 |  2.961e-01 |  5.573e+01 |  3.304e+00 |  1.000e-01 |  1.000e-02 |\n",
      "| 0015 |  3.171e-01 |  4.680e+01 |  3.335e+00 |  1.000e-01 |  1.000e-02 |\n",
      "| 0016 |  3.926e-01 |  5.138e+01 |  2.563e+00 |  1.000e-01 |  1.000e-02 |\n",
      "| 0017 |  4.135e-01 |  4.572e+01 |  2.574e+00 |  1.000e-01 |  1.000e-02 |\n",
      "| 0018 |  4.345e-01 |  4.844e+01 |  1.819e+00 |  1.000e-01 |  1.000e-02 |\n",
      "| 0019 |  4.560e-01 |  4.616e+01 |  1.089e+00 |  1.000e-01 |  1.000e-02 |\n",
      "| 0020 |  4.780e-01 |  4.688e+01 |  7.035e-01 |  1.000e-01 |  1.000e-02 |\n",
      "| 0021 |  4.987e-01 |  4.623e+01 |  2.966e-01 |  1.000e-01 |  1.000e-02 |\n",
      "| 0022 |  5.200e-01 |  4.638e+01 |  1.802e-01 |  1.000e-01 |  1.000e-02 |\n",
      "| 0023 |  5.434e-01 |  4.623e+01 |  6.614e-02 |  1.000e-01 |  1.000e-02 |\n",
      "| 0024 |  5.639e-01 |  4.626e+01 |  4.014e-02 |  1.000e-01 |  1.000e-02 |\n",
      "| 0025 |  5.845e-01 |  4.622e+01 |  1.401e-02 |  1.000e-01 |  1.000e-02 |\n",
      "| 0026 |  6.055e-01 |  4.623e+01 |  8.718e-03 |  1.000e-01 |  1.000e-02 |\n",
      "| 0027 |  6.270e-01 |  4.622e+01 |  2.979e-03 |  1.000e-01 |  1.000e-02 |\n",
      "| 0028 |  6.475e-01 |  4.622e+01 |  1.900e-03 |  1.000e-01 |  1.000e-02 |\n",
      "| 0029 |  6.741e-01 |  4.622e+01 |  6.463e-04 |  1.000e-01 |  1.000e-02 |\n",
      "| 0030 |  6.956e-01 |  4.622e+01 |  4.189e-04 |  1.000e-01 |  1.000e-02 |\n",
      "| 0031 |  7.169e-01 |  4.622e+01 |  1.437e-04 |  1.000e-01 |  1.000e-02 |\n",
      "| 0032 |  7.387e-01 |  4.622e+01 |  9.355e-05 |  1.000e-01 |  1.000e-02 |\n",
      "| 0033 |  7.603e-01 |  4.622e+01 |  3.275e-05 |  1.000e-01 |  1.000e-02 |\n",
      "| 0034 |  7.820e-01 |  4.622e+01 |  2.116e-05 |  1.000e-01 |  1.000e-02 |\n",
      "| 0035 |  8.024e-01 |  4.622e+01 |  7.623e-06 |  1.000e-01 |  1.000e-02 |\n",
      "+------+------------+------------+------------+------------+------------+\n"
     ]
    }
   ],
   "source": [
    "M, N, xdim, udim = 1, 30, 4, 2\n",
    "\n",
    "Q = np.tile(np.eye(xdim), (N, 1, 1))\n",
    "R = np.tile(1e0 * np.eye(udim), (N, 1, 1))\n",
    "x0 = np.tile(np.ones(xdim), (1,))\n",
    "X_ref, U_ref = np.zeros((N, xdim)), np.zeros((N, udim))\n",
    "X_prev, U_prev = np.zeros((N, xdim)), np.zeros((N, udim))\n",
    "u_limit = 0.2\n",
    "u_l, u_u = -u_limit * np.ones((N, udim)), u_limit * np.ones((N, udim))\n",
    "\n",
    "opts = dict(verbose=True, u_l=u_l, u_u=u_u)\n",
    "args = (f_fx_fu_fn, Q, R, x0, X_ref, U_ref, X_prev, U_prev)\n",
    "\n",
    "opts[\"reg_x\"], opts[\"reg_u\"] = 1e2, 1e1\n",
    "opts[\"solver_settings\"] = dict(\n",
    "    return_solver_id=True,\n",
    "    return_solver=True,\n",
    "    solver_name=\"ecos\",\n",
    "    smooth_cstr=\"logbarrier\",\n",
    "    smooth_alpha=1e-1,\n",
    ")\n",
    "#ret = pmpc.tune_scp(*args, **opts)\n",
    "opts[\"reg_x\"], opts[\"reg_u\"] = 1e-1, 1e-2\n",
    "X, U, data = pmpc.solve(*args, max_it=100, **opts)\n"
   ]
  },
  {
   "cell_type": "code",
   "execution_count": 16,
   "id": "354b055a",
   "metadata": {},
   "outputs": [],
   "source": [
    "sol = get_data(data[\"solver_data\"][-1][\"solver\"])"
   ]
  },
  {
   "cell_type": "code",
   "execution_count": 18,
   "id": "678748d6",
   "metadata": {},
   "outputs": [
    {
     "data": {
      "text/plain": [
       "DeviceArray([0.02021755, 0.35371858, 0.02166781, 0.36982692, 0.02361003,\n",
       "             0.37638903, 0.02618975, 0.37965846, 0.02961001, 0.3813655 ,\n",
       "             0.03416613, 0.38216724, 0.04029671, 0.3823593 , 0.04866303,\n",
       "             0.38208729, 0.06026625, 0.381425  , 0.07658114, 0.38040736,\n",
       "             0.09951901, 0.379044  , 0.13046169, 0.37732108, 0.16714837,\n",
       "             0.37519417, 0.2017138 , 0.37257703, 0.22731072, 0.36933519,\n",
       "             0.24327468, 0.3652852 , 0.25176718, 0.36019207, 0.25484789,\n",
       "             0.35376358, 0.25395033, 0.34564832, 0.25008179, 0.33545014,\n",
       "             0.2440627 , 0.32278047, 0.23667913, 0.30738121, 0.22873229,\n",
       "             0.28934921, 0.22099427, 0.26942588, 0.21411108, 0.2491384 ,\n",
       "             0.20851625, 0.23047603, 0.20439938, 0.2151783 , 0.20173102,\n",
       "             0.20425254, 0.20031714, 0.19805516, 0.19985778, 0.19663713],            dtype=float64)"
      ]
     },
     "execution_count": 18,
     "metadata": {},
     "output_type": "execute_result"
    }
   ],
   "source": [
    "sol[\"G\"] @ sol[\"z\"] - sol[\"l\"]"
   ]
  },
  {
   "cell_type": "code",
   "execution_count": null,
   "id": "9d1fc426",
   "metadata": {},
   "outputs": [],
   "source": [
    "#X, U = X[0], U[0]\n",
    "\n",
    "#ret = pmpc.tune_scp(*args, solve_fn=pmpc.accelerated_scp_solve, **opts)\n",
    "#opts[\"rho_res_x\"], opts[\"rho_res_u\"] = ret\n",
    "#X, U, data = pmpc.accelerated_scp_solve(*args, max_iters=100, **opts)\n",
    "#X, U = X[0], U[0]\n",
    "\n",
    "plt.figure()\n",
    "for r in range(xdim):\n",
    "    plt.plot(X[:, r], label=\"$x_%d$\" % (r + 1))\n",
    "plt.legend()\n",
    "plt.tight_layout()\n",
    "\n",
    "plt.figure()\n",
    "for r in range(udim):\n",
    "    plt.plot(U[:, r], label=\"$u_%d$\" % (r + 1))\n",
    "plt.legend()\n",
    "plt.tight_layout()\n",
    "\n",
    "plt.draw_all()\n",
    "plt.pause(1e-1)\n",
    "pdb.set_trace()"
   ]
  }
 ],
 "metadata": {
  "jupytext": {
   "cell_metadata_filter": "-all",
   "main_language": "python",
   "notebook_metadata_filter": "-all"
  },
  "kernelspec": {
   "display_name": "Python 3.9.13 64-bit ('devel')",
   "language": "python",
   "name": "python3"
  },
  "language_info": {
   "codemirror_mode": {
    "name": "ipython",
    "version": 3
   },
   "file_extension": ".py",
   "mimetype": "text/x-python",
   "name": "python",
   "nbconvert_exporter": "python",
   "pygments_lexer": "ipython3",
   "version": "3.9.13"
  },
  "vscode": {
   "interpreter": {
    "hash": "167df2b33fa5aa2586c0032fa966e4656a2933a57c5000067bea051190f21512"
   }
  }
 },
 "nbformat": 4,
 "nbformat_minor": 5
}
